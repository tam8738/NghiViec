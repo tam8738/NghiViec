{
  "nbformat": 4,
  "nbformat_minor": 0,
  "metadata": {
    "colab": {
      "provenance": [],
      "mount_file_id": "1_x5rzVGlLsRIiDT070VvqH0ZKcoXb7Mc",
      "authorship_tag": "ABX9TyNIcouLaJLq4bnA2JrklI6d",
      "include_colab_link": true
    },
    "kernelspec": {
      "name": "python3",
      "display_name": "Python 3"
    },
    "language_info": {
      "name": "python"
    }
  },
  "cells": [
    {
      "cell_type": "markdown",
      "metadata": {
        "id": "view-in-github",
        "colab_type": "text"
      },
      "source": [
        "<a href=\"https://colab.research.google.com/github/tam8738/NghiViec/blob/main/train.ipynb\" target=\"_parent\"><img src=\"https://colab.research.google.com/assets/colab-badge.svg\" alt=\"Open In Colab\"/></a>"
      ]
    },
    {
      "cell_type": "code",
      "source": [
        "import pandas as pd\n",
        "import numpy as np\n",
        "\n",
        "def check_data_for_logistic_regression_from_file(file_path, label_column, file_type='csv', separator=','):\n",
        "    \"\"\"\n",
        "    Kiểm tra dữ liệu từ file xem có phù hợp để train hồi quy logistic hay không.\n",
        "\n",
        "    Parameters:\n",
        "    - file_path: Đường dẫn đến file dữ liệu.\n",
        "    - label_column: Tên cột chứa nhãn.\n",
        "    - file_type: Loại file ('csv', 'excel').\n",
        "    - separator: Dấu phân tách trong file (mặc định: ',').\n",
        "\n",
        "    Returns:\n",
        "    - Báo cáo các vấn đề (nếu có) và gợi ý xử lý.\n",
        "    \"\"\"\n",
        "    # 1. Đọc dữ liệu từ file\n",
        "    print(f\"Đang đọc file: {file_path}\")\n",
        "    try:\n",
        "        if file_type == 'csv':\n",
        "            df = pd.read_csv(file_path, sep=separator)\n",
        "        elif file_type == 'excel':\n",
        "            df = pd.read_excel(file_path)\n",
        "        else:\n",
        "            raise ValueError(\"file_type không được hỗ trợ. Chọn 'csv' hoặc 'excel'.\")\n",
        "    except FileNotFoundError:\n",
        "        print(f\"LỖI: Không tìm thấy file tại {file_path}.\")\n",
        "        return\n",
        "    except Exception as e:\n",
        "        print(f\"LỖI khi đọc file: {e}\")\n",
        "        return\n",
        "\n",
        "    # 2. Kiểm tra cột nhãn\n",
        "    if label_column not in df.columns:\n",
        "        print(f\"LỖI: Cột nhãn '{label_column}' không tồn tại trong file.\")\n",
        "        print(\"Các cột hiện có:\", df.columns.tolist())\n",
        "        return\n",
        "\n",
        "    # 3. Tách đặc trưng và nhãn\n",
        "    X = df.drop(columns=[label_column])\n",
        "    y = df[label_column]\n",
        "\n",
        "    print(f\"\\nSố lượng mẫu: {len(df)}\")\n",
        "    print(f\"Số đặc trưng: {len(X.columns)}\")\n",
        "    print(f\"Tên đặc trưng: {X.columns.tolist()}\")\n",
        "\n",
        "    # 4. Kiểm tra dữ liệu\n",
        "    print(\"\\n=== KIỂM TRA DỮ LIỆU CHO HỒI QUY LOGISTIC ===\")\n",
        "\n",
        "    # Kiểm tra giá trị thiếu\n",
        "    missing_values = X.isnull().sum()\n",
        "    if missing_values.any():\n",
        "        print(\"CẢNH BÁO: Tồn tại giá trị thiếu trong các đặc trưng:\")\n",
        "        print(missing_values[missing_values > 0])\n",
        "        print(\"Gợi ý: Xử lý giá trị thiếu bằng cách điền giá trị trung bình, trung vị hoặc xóa dòng.\")\n",
        "    else:\n",
        "        print(\"OK: Không có giá trị thiếu trong đặc trưng.\")\n",
        "\n",
        "    if y.isnull().sum() > 0:\n",
        "        print(\"CẢNH BÁO: Tồn tại giá trị thiếu trong nhãn.\")\n",
        "        print(\"Gợi ý: Xóa các dòng có nhãn thiếu hoặc gán giá trị mặc định.\")\n",
        "    else:\n",
        "        print(\"OK: Không có giá trị thiếu trong nhãn.\")\n",
        "\n",
        "    # Kiểm tra kiểu dữ liệu\n",
        "    non_numeric_cols = X.select_dtypes(exclude=['float64', 'int64']).columns\n",
        "    if len(non_numeric_cols) > 0:\n",
        "        print(\"CẢNH BÁO: Tồn tại cột không phải kiểu số:\", non_numeric_cols.tolist())\n",
        "        print(\"Gợi ý: Chuyển đổi cột này thành dạng số (ví dụ: mã hóa one-hot cho biến phân loại).\")\n",
        "    else:\n",
        "        print(\"OK: Tất cả đặc trưng đều là kiểu số.\")\n",
        "\n",
        "    # Kiểm tra nhãn nhị phân\n",
        "    unique_labels = np.unique(y.dropna())\n",
        "    if len(unique_labels) != 2:\n",
        "        print(f\"CẢNH BÁO: Nhãn không phải nhị phân. Số giá trị duy nhất: {len(unique_labels)}\")\n",
        "        print(\"Gợi ý: Đảm bảo nhãn chỉ có 2 giá trị (0/1 hoặc True/False).\")\n",
        "    else:\n",
        "        print(\"OK: Nhãn là nhị phân.\")\n",
        "\n",
        "    # Kiểm tra giá trị vô cực hoặc NaN\n",
        "    if np.any(np.isinf(X.select_dtypes(include=['float64', 'int64']))) or np.any(np.isnan(X.select_dtypes(include=['float64', 'int64']))):\n",
        "        print(\"CẢNH BÁO: Tồn tại giá trị vô cực hoặc NaN trong đặc trưng số.\")\n",
        "        print(\"Gợi ý: Thay thế hoặc xóa các giá trị này.\")\n",
        "    else:\n",
        "        print(\"OK: Không có giá trị vô cực hoặc NaN trong đặc trưng số.\")\n",
        "\n",
        "    # Kiểm tra tỷ lệ nhãn\n",
        "    label_counts = y.value_counts(normalize=True)\n",
        "    print(\"\\nTỷ lệ nhãn:\")\n",
        "    print(label_counts)\n",
        "    if any(label_counts < 0.1):\n",
        "        print(\"CẢNH BÁO: Dữ liệu mất cân bằng nghiêm trọng.\")\n",
        "        print(\"Gợi ý: Sử dụng kỹ thuật như oversampling, undersampling hoặc class-weight.\")\n",
        "\n",
        "    # Kiểm tra phạm vi giá trị đặc trưng\n",
        "    print(\"\\nPhạm vi giá trị của các đặc trưng số:\")\n",
        "    numeric_cols = X.select_dtypes(include=['float64', 'int64']).columns\n",
        "    if len(numeric_cols) > 0:\n",
        "        print(X[numeric_cols].describe().loc[['min', 'max']])\n",
        "        if (X[numeric_cols].max() - X[numeric_cols].min()).max() > 1000:\n",
        "            print(\"CẢNH BÁO: Một số đặc trưng có phạm vi giá trị lớn.\")\n",
        "            print(\"Gợi ý: Chuẩn hóa dữ liệu bằng StandardScaler hoặc MinMaxScaler.\")\n",
        "    else:\n",
        "        print(\"Không có đặc trưng số để kiểm tra phạm vi.\")\n",
        "\n",
        "    print(\"\\n=== KẾT THÚC KIỂM TRA ===\")\n",
        "\n",
        "# Sử dụng\n",
        "if __name__ == \"__main__\":\n",
        "    file_path = \"bodulieu.csv\"  # Đường dẫn đến file\n",
        "    label_column = \"danghiviec\"  # Tên cột nhãn\n",
        "    file_type = \"csv\"           # Loại file\n",
        "    separator = \";\"             # Dấu phân tách\n",
        "\n",
        "    check_data_for_logistic_regression_from_file(file_path, label_column, file_type,separator)"
      ],
      "metadata": {
        "colab": {
          "base_uri": "https://localhost:8080/"
        },
        "id": "GjRlUkIQTPe1",
        "outputId": "13f534d1-112c-43fb-97f7-0751538d1a39"
      },
      "execution_count": null,
      "outputs": [
        {
          "output_type": "stream",
          "name": "stdout",
          "text": [
            "Đang đọc file: bodulieu.csv\n",
            "\n",
            "Số lượng mẫu: 14999\n",
            "Số đặc trưng: 9\n",
            "Tên đặc trưng: ['mucdohailong', 'danhgia_gannhat', 'soluong_duanthamgia', 'sogiolamtrungbinh_hangthang', 'sonamlamviec', 'tainanlaodong', 'duocthangchuc_trong5nam', 'phongban', 'mucluong']\n",
            "\n",
            "=== KIỂM TRA DỮ LIỆU CHO HỒI QUY LOGISTIC ===\n",
            "OK: Không có giá trị thiếu trong đặc trưng.\n",
            "OK: Không có giá trị thiếu trong nhãn.\n",
            "CẢNH BÁO: Tồn tại cột không phải kiểu số: ['phongban', 'mucluong']\n",
            "Gợi ý: Chuyển đổi cột này thành dạng số (ví dụ: mã hóa one-hot cho biến phân loại).\n",
            "OK: Nhãn là nhị phân.\n",
            "OK: Không có giá trị vô cực hoặc NaN trong đặc trưng số.\n",
            "\n",
            "Tỷ lệ nhãn:\n",
            "danghiviec\n",
            "0    0.761917\n",
            "1    0.238083\n",
            "Name: proportion, dtype: float64\n",
            "\n",
            "Phạm vi giá trị của các đặc trưng số:\n",
            "     mucdohailong  danhgia_gannhat  soluong_duanthamgia  \\\n",
            "min          0.09             0.36                  2.0   \n",
            "max          1.00             1.00                  7.0   \n",
            "\n",
            "     sogiolamtrungbinh_hangthang  sonamlamviec  tainanlaodong  \\\n",
            "min                         96.0           2.0            0.0   \n",
            "max                        310.0          10.0            1.0   \n",
            "\n",
            "     duocthangchuc_trong5nam  \n",
            "min                      0.0  \n",
            "max                      1.0  \n",
            "\n",
            "=== KẾT THÚC KIỂM TRA ===\n"
          ]
        }
      ]
    },
    {
      "cell_type": "code",
      "source": [
        "import pandas as pd\n",
        "from sklearn.model_selection import train_test_split\n",
        "from sklearn.preprocessing import StandardScaler\n",
        "from sklearn.linear_model import LogisticRegression\n",
        "from imblearn.over_sampling import SMOTE\n",
        "import joblib\n",
        "\n",
        "# 1. Đọc dữ liệu\n",
        "df = pd.read_csv('bodulieu.csv', sep=';')\n",
        "\n",
        "# 2. Tiền xử lý\n",
        "mucluong_map = {'low': 0, 'medium': 1, 'high': 2}\n",
        "df['mucluong'] = df['mucluong'].map(mucluong_map)\n",
        "df = pd.get_dummies(df, columns=['phongban'], drop_first=True)\n",
        "\n",
        "# Loại bỏ cột 'tainanlaodong'\n",
        "df = df.drop(columns=['tainanlaodong'])\n",
        "\n",
        "# 3. Tách đặc trưng và nhãn\n",
        "X = df.drop('danghiviec', axis=1)\n",
        "y = df['danghiviec']\n",
        "\n",
        "# 4. Chuẩn hóa và cân bằng\n",
        "scaler = StandardScaler()\n",
        "X_scaled = scaler.fit_transform(X)\n",
        "\n",
        "smote = SMOTE(random_state=42)\n",
        "X_resampled, y_resampled = smote.fit_resample(X_scaled, y)\n",
        "\n",
        "# 5. Huấn luyện mô hình\n",
        "model = LogisticRegression(class_weight='balanced', max_iter=1000)\n",
        "model.fit(X_resampled, y_resampled)\n",
        "\n",
        "# 6. Lưu mô hình và scaler\n",
        "joblib.dump(model, 'logistic_model.pkl')\n",
        "joblib.dump(scaler, 'scaler.pkl')\n",
        "joblib.dump(X.columns.tolist(), 'feature_names.pkl')\n",
        "print(\"✅ Mô hình và scaler đã được lưu thành công (đã loại bỏ 'tainanlaodong').\")\n"
      ],
      "metadata": {
        "colab": {
          "base_uri": "https://localhost:8080/"
        },
        "id": "s2FL8TyCuo1O",
        "outputId": "edb38dca-c4a8-4c49-8da3-58919bfdd7a5"
      },
      "execution_count": null,
      "outputs": [
        {
          "output_type": "stream",
          "name": "stdout",
          "text": [
            "Mô hình và scaler đã được lưu thành công (đã loại bỏ 'tainanlaodong').\n"
          ]
        }
      ]
    },
    {
      "cell_type": "code",
      "source": [
        "from sklearn.metrics import accuracy_score, precision_score, recall_score, f1_score, roc_auc_score\n",
        "\n",
        "# Đánh giá mô hình trên tập huấn luyện\n",
        "y_pred = model.predict(X_resampled)\n",
        "y_proba = model.predict_proba(X_resampled)[:, 1]\n",
        "\n",
        "print(\"=== ĐÁNH GIÁ MÔ HÌNH ===\")\n",
        "print(\"Accuracy :\", accuracy_score(y_resampled, y_pred))\n",
        "print(\"Precision:\", precision_score(y_resampled, y_pred))\n",
        "print(\"Recall   :\", recall_score(y_resampled, y_pred))\n",
        "print(\"F1 Score :\", f1_score(y_resampled, y_pred))\n",
        "print(\"ROC AUC  :\", roc_auc_score(y_resampled, y_proba))\n"
      ],
      "metadata": {
        "colab": {
          "base_uri": "https://localhost:8080/"
        },
        "id": "hi8dVbKcysiZ",
        "outputId": "ce32659b-7483-4e94-9465-f50de6931ee0"
      },
      "execution_count": null,
      "outputs": [
        {
          "output_type": "stream",
          "name": "stdout",
          "text": [
            "=== ĐÁNH GIÁ MÔ HÌNH ===\n",
            "Accuracy : 0.7664070703535176\n",
            "Precision: 0.7532229892705647\n",
            "Recall   : 0.7924396219810991\n",
            "F1 Score : 0.7723338023964863\n",
            "ROC AUC  : 0.8198377181284686\n"
          ]
        }
      ]
    }
  ]
}
